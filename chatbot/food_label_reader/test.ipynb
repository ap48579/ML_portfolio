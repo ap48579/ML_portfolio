{
 "cells": [
  {
   "cell_type": "code",
   "execution_count": 20,
   "metadata": {},
   "outputs": [],
   "source": [
    "from typing import Literal\n",
    "from typing import Annotated, Optional, Dict, List\n",
    "from typing_extensions import TypedDict\n",
    "import ollama\n",
    "from langgraph.graph import StateGraph, START, END\n",
    "from pydantic import BaseModel\n",
    "from langgraph.graph.message import add_messages\n",
    "from langchain_ollama import ChatOllama\n",
    "from langchain_core.messages import HumanMessage, SystemMessage\n",
    "from langgraph.graph import MessagesState, END\n",
    "from langgraph.types import Command\n",
    "import subprocess\n",
    "import base64\n",
    "from pathlib import Path"
   ]
  },
  {
   "cell_type": "code",
   "execution_count": 22,
   "metadata": {},
   "outputs": [],
   "source": [
    "image_path = Path(\"images\") / \"sample_image.jpeg\"\n",
    "with open(image_path, \"rb\") as img_file:\n",
    "    image_data = base64.b64encode(img_file.read()).decode(\"utf-8\")"
   ]
  },
  {
   "cell_type": "code",
   "execution_count": 26,
   "metadata": {},
   "outputs": [
    {
     "data": {
      "text/plain": [
       "'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'"
      ]
     },
     "execution_count": 26,
     "metadata": {},
     "output_type": "execute_result"
    }
   ],
   "source": [
    "image_data"
   ]
  },
  {
   "cell_type": "code",
   "execution_count": 27,
   "metadata": {},
   "outputs": [],
   "source": [
    "from pathlib import Path\n",
    "\n",
    "def encode_image(image_path):\n",
    "    with open(image_path, \"rb\") as image_file:\n",
    "        return base64.b64encode(image_file.read()).decode('utf-8')\n",
    "    \n",
    "\n",
    "\n",
    "\n",
    "response = ollama.chat(\n",
    "    model='llama3.2-vision',\n",
    "    messages = [{\n",
    "    'role': 'user', \n",
    "    'content': 'what is this image about?',\n",
    "    'images': [encode_image(Path(\"images\")/\"sample_image.jpeg\")]  # Use encoded data\n",
    "}]\n",
    ")\n",
    "\n",
    "\n"
   ]
  },
  {
   "cell_type": "code",
   "execution_count": 28,
   "metadata": {},
   "outputs": [
    {
     "data": {
      "text/plain": [
       "Message(role='assistant', content=\"This image appears to be a nutrition label for Cheerios cereal, providing information on the product's ingredients and nutritional content.\", images=None, tool_calls=None)"
      ]
     },
     "execution_count": 28,
     "metadata": {},
     "output_type": "execute_result"
    }
   ],
   "source": [
    "response['message']"
   ]
  },
  {
   "cell_type": "code",
   "execution_count": 16,
   "metadata": {},
   "outputs": [
    {
     "name": "stdout",
     "output_type": "stream",
     "text": [
      "model='llama3.2-vision' created_at='2025-05-03T17:47:02.605182Z' done=True done_reason='stop' total_duration=43574412542 load_duration=1188685375 prompt_eval_count=33 prompt_eval_duration=36134994458 eval_count=148 eval_duration=6200746458 message=Message(role='assistant', content='Here is the processed nutrition information in JSON format:\\n\\n{\"serving_size\": 1, \"servings_per_container\": 60, \"calories\": 120, \"total_fat\": 2g, \"saturated_fat\": 0.5g, \"trans_fat\": 0g, \"cholesterol\": 0mg, \"sodium\": 110mg, \"total_carbohydrates\": 24g, \"dietary_fiber\": 1g, \"sugars\": 8g, \"protein\": 2g, \"vitamin_a\": 10%, \"vitamin_c\": 4%, \"calcium\": 20%, \"iron\": 6%}', images=None, tool_calls=None)\n"
     ]
    }
   ],
   "source": [
    "from pathlib import Path\n",
    "response = ollama.chat(\n",
    "        model='llama3.2-vision',\n",
    "        messages=[\n",
    "            {'role': 'system', 'content': 'Extract nutrition facts as JSON. Return only valid JSON.'},\n",
    "            {'role': 'user', 'content': 'Process this food label:', 'images': [Path(\"images\") / \"sample_image.jpeg\"]}\n",
    "        ]\n",
    "    )\n",
    "\n",
    "\n",
    "\n",
    "print(response)"
   ]
  },
  {
   "cell_type": "code",
   "execution_count": 34,
   "metadata": {},
   "outputs": [
    {
     "name": "stdout",
     "output_type": "stream",
     "text": [
      "Here is the nutrition information in a clear and structured format:\n",
      "\n",
      "**Nutrition Facts**\n",
      "\n",
      "* **Serving Size**: 1 cup (28g)\n",
      "* **Servings Per Container**: 6\n",
      "* **Amount Per Serving**: 28g\n",
      "* **Calories**: 130\n",
      "* **Total Fat**: 2g\n",
      "\t+ Saturated Fat: 0.5g\n",
      "\t+ Trans Fat: 0g\n",
      "* **Cholesterol**: 10mg\n",
      "* **Sodium**: 150mg\n",
      "* **Total Carbohydrates**: 27g\n",
      "\t+ Dietary Fiber: 1g\n",
      "\t+ Sugars: 9g\n",
      "* **Protein**: 2g\n",
      "\n",
      "**% Daily Value**\n",
      "\n",
      "* **Vitamin A**: 0%\n",
      "* **Vitamin C**: 4%\n",
      "* **Calcium**: 6%\n",
      "* **Iron**: 10%\n",
      "\n",
      "**Other Ingredients**\n",
      "\n",
      "* Whole grain oats\n",
      "* Modified corn starch\n",
      "* Sugar\n",
      "* Salt\n",
      "* Trisodium phosphate\n",
      "* Calcium carbonate\n",
      "* Monoglycerides\n",
      "* Tocopherols\n",
      "* Wheat starch\n",
      "* Annatto\n",
      "* Vitamins (Niacinamide, Calcium pantothenate, Pyridoxine hydrochloride)\n",
      "* Minerals (Vitamin B6, Folate)\n",
      "\n",
      "Note: The \"Contains wheat ingredients\" statement is not a nutrition fact, but rather an allergen warning.\n"
     ]
    }
   ],
   "source": [
    "from PIL import Image\n",
    "import base64\n",
    "from io import BytesIO\n",
    "from langchain_community.chat_models import ChatOllama\n",
    "from langchain_core.messages import HumanMessage\n",
    "\n",
    "def convert_to_base64(pil_image):\n",
    "    buffered = BytesIO()\n",
    "    pil_image.save(buffered, format=\"JPEG\")\n",
    "    return base64.b64encode(buffered.getvalue()).decode(\"utf-8\")\n",
    "\n",
    "\n",
    "pil_image = Image.open(\"images/sample_image.jpeg\")\n",
    "image_b64 = convert_to_base64(pil_image)\n",
    "\n",
    "\n",
    "content = [\n",
    "    {\"type\": \"image_url\", \"image_url\": f\"data:image/jpeg;base64,{image_b64}\"},\n",
    "    {\"type\": \"text\", \"text\": \"Process this food label\"}\n",
    "]\n",
    "\n",
    "llm = ChatOllama(model=\"llama3.2-vision\", temperature = 0.7)\n",
    "response = llm.invoke([SystemMessage(content=\"Extract nutrition facts as JSON. Return only valid JSON.\"),HumanMessage(content=content)])\n",
    "print(response.content)"
   ]
  },
  {
   "cell_type": "code",
   "execution_count": 8,
   "metadata": {},
   "outputs": [
    {
     "data": {
      "text/plain": [
       "Message(role='assistant', content='Here is the data in a JSON format:\\n\\n[{\\n    \"Nutrition Facts\": {\\n        \"Serving Size\": 1 cup (28g),\\n        \"Servings Per Container\": 8,\\n        \"Amount Per Serving\": {\\n            \"Calories\": 120,\\n            \"Total Fat\": 2g,\\n            \"Saturated Fat\": 0.5g,\\n            \"Trans Fat\": 0g,\\n            \"Cholesterol\": 0mg,\\n            \"Sodium\": 90mg,\\n            \"Total Carbohydrates\": 25g,\\n            \"Dietary Fiber\": 1g,\\n            \"Sugars\": 7g,\\n            \"Protein\": 2g\\n        },\\n        \"Percent Daily Values are based on a 2000 calorie diet.\"\\n    }\\n}]', images=None, tool_calls=None)"
      ]
     },
     "execution_count": 8,
     "metadata": {},
     "output_type": "execute_result"
    }
   ],
   "source": [
    "response['message']"
   ]
  },
  {
   "cell_type": "code",
   "execution_count": 10,
   "metadata": {},
   "outputs": [],
   "source": [
    "label_data = response['message']"
   ]
  },
  {
   "cell_type": "code",
   "execution_count": 12,
   "metadata": {},
   "outputs": [
    {
     "name": "stdout",
     "output_type": "stream",
     "text": [
      "Based on the provided label data, here is the extracted information as JSON:\n",
      "\n",
      "```json\n",
      "{\n",
      "  \"has_sugar\": true,\n",
      "  \"sugar_per_serving\": {\n",
      "    \"amount\": 7g,\n",
      "    \"unit\": \"g\"\n",
      "  }\n",
      "}\n",
      "```\n",
      "\n",
      "This JSON object indicates that the item contains sugar and provides the amount of sugar per serving, which is 7 grams.\n"
     ]
    }
   ],
   "source": [
    "question = \"Does the item have sugar in it? if yes how much per serving?\"\n",
    "llm = ChatOllama(\n",
    "    model=\"llama3.2\",  \n",
    "    temperature=0.7  \n",
    ")\n",
    "\n",
    "messages = [\n",
    "        SystemMessage(content='Extract nutrition facts as JSON. Return only valid JSON.'),\n",
    "        HumanMessage(content=f'Please help answer the user question using the below food labels I extracted from the image provided by the user. user_question: {question} /n label_data = {label_data}')\n",
    "    ]\n",
    "\n",
    "\n",
    "print(llm.invoke(messages).content)"
   ]
  },
  {
   "cell_type": "code",
   "execution_count": null,
   "metadata": {},
   "outputs": [],
   "source": []
  }
 ],
 "metadata": {
  "kernelspec": {
   "display_name": "akhilp_env",
   "language": "python",
   "name": "python3"
  },
  "language_info": {
   "codemirror_mode": {
    "name": "ipython",
    "version": 3
   },
   "file_extension": ".py",
   "mimetype": "text/x-python",
   "name": "python",
   "nbconvert_exporter": "python",
   "pygments_lexer": "ipython3",
   "version": "3.9.21"
  }
 },
 "nbformat": 4,
 "nbformat_minor": 2
}
